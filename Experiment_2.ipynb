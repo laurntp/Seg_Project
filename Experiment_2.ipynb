{
 "cells": [
  {
   "cell_type": "code",
   "execution_count": 8,
   "metadata": {},
   "outputs": [
    {
     "name": "stdout",
     "output_type": "stream",
     "text": [
      "The autoreload extension is already loaded. To reload it, use:\n",
      "  %reload_ext autoreload\n"
     ]
    }
   ],
   "source": [
    "%load_ext autoreload\n",
    "%autoreload 2\n",
    "\n",
    "train_path = \"Dataset/Train\"\n",
    "test_path = \"Dataset/Test\"\n",
    "val_path = \"Dataset/Val\" "
   ]
  },
  {
   "cell_type": "code",
   "execution_count": 21,
   "metadata": {},
   "outputs": [],
   "source": [
    "import os \n",
    "\n",
    "import torch\n",
    "from torchvision import transforms\n",
    "import numpy as np\n",
    "\n",
    "from models.pca import PCA_Net\n",
    "from models.vae import VariationalAutoencoderMixto\n",
    "from models.hybrid import HybridGNet\n",
    "\n",
    "from dataLoader import LandmarksDataset, ToTensor, Rescale\n",
    "from sklearn.metrics import mean_squared_error\n",
    "import scipy.sparse as sp\n",
    "from utils.utils import scipy_to_torch_sparse"
   ]
  },
  {
   "cell_type": "code",
   "execution_count": 22,
   "metadata": {},
   "outputs": [
    {
     "name": "stdout",
     "output_type": "stream",
     "text": [
      "Vae Loaded\n",
      "PCA Loaded\n"
     ]
    }
   ],
   "source": [
    "vae = VariationalAutoencoderMixto(inputsize = 332, latents = 64).to(device)\n",
    "vae.load_state_dict(torch.load(\"weightsExp2/vae2.pt\"))\n",
    "vae.eval()\n",
    "\n",
    "print('Vae Loaded')\n",
    "\n",
    "pca = PCA_Net(latents = 128).to(device)\n",
    "pca.load_state_dict(torch.load(\"weightsExp2/pca2.pt\"))\n",
    "pca.eval()\n",
    "\n",
    "print('PCA Loaded')"
   ]
  },
  {
   "cell_type": "code",
   "execution_count": 23,
   "metadata": {},
   "outputs": [],
   "source": [
    "device = torch.device(\"cuda:0\" if torch.cuda.is_available() else \"cpu\")\n",
    "\n",
    "A = np.load('adjacencyMatrix.npy')\n",
    "A = sp.csc_matrix(A).tocoo()\n",
    "\n",
    "I = np.eye(166)\n",
    "I = sp.csc_matrix(I).tocoo()\n",
    "\n",
    "D = [I.copy(), I.copy(), I.copy(), I.copy()]\n",
    "U = [I.copy(), I.copy(), I.copy(), I.copy()]\n",
    "A = [A.copy(), A.copy(), A.copy(), A.copy()]\n",
    "\n",
    "A_t, D_t, U_t = ([scipy_to_torch_sparse(x).to('cuda:0') for x in X] for X in (A, D, U))\n",
    "\n",
    "num_nodes = [166, 166, 166, 166]\n",
    "num_features = 2\n",
    "\n",
    "config = {}\n",
    "\n",
    "config['n_layers'] = 4\n",
    "config['num_conv_filters'] = [16, 16, 16, 16, 16]\n",
    "config['polygon_order'] = [6, 6, 6, 6, 6]\n",
    "config['kld_weight'] = 1e-5\n",
    "config['z'] = 64\n",
    "\n",
    "hybrid = HybridGNet(config, num_features, D_t, U_t, A_t, num_nodes).to(device)\n",
    "hybrid.load_state_dict(torch.load(\"weightsExp2/hybrid2.pt\"))\n",
    "hybrid = hybrid.eval()"
   ]
  },
  {
   "cell_type": "code",
   "execution_count": 24,
   "metadata": {},
   "outputs": [],
   "source": [
    "from dataLoader import LandmarksDataset, Rescale, ToTensor\n",
    "from torchvision import transforms\n",
    "import os\n",
    "\n",
    "img_path = os.path.join(test_path, 'Images')\n",
    "label_path = os.path.join(test_path, 'landmarks')\n",
    "test_dataset = LandmarksDataset(img_path=img_path,\n",
    "                                 label_path=label_path,\n",
    "                                 transform = transforms.Compose([\n",
    "                                             Rescale(512),\n",
    "                                             ToTensor()])\n",
    "                                 )\n",
    "\n",
    "torch.manual_seed(420)\n",
    "\n",
    "sample = test_dataset[0]\n",
    "image, target, seg = sample['image'].to(device), sample['landmarks'].to(device), sample['seg'].to(device).float()"
   ]
  },
  {
   "cell_type": "code",
   "execution_count": 30,
   "metadata": {},
   "outputs": [],
   "source": [
    "import pandas as pd\n",
    "from sklearn.metrics import mean_squared_error\n",
    "\n",
    "model_list = [hybrid, vae, pca]\n",
    "model_names = ['HybridGNet', 'VAE', 'PCA']\n",
    "\n",
    "results1 = pd.DataFrame()\n",
    "\n",
    "for i in range(0, len(test_dataset.images)):    \n",
    "    with torch.no_grad():\n",
    "        sample = test_dataset[i]\n",
    "\n",
    "        data, target = sample['seg'].float(), sample['landmarks']\n",
    "        data = torch.unsqueeze(data, 0).to(device)\n",
    "        target =  target.reshape(-1).numpy()\n",
    "        \n",
    "        for j in range(0, len(model_list)):\n",
    "            output = model_list[j](data)\n",
    "            if len(output) > 1:\n",
    "                output = output[0]\n",
    "            output = output.cpu().numpy().reshape(-1) \n",
    "            error = mean_squared_error(target * 512, output * 512)\n",
    "            aux = pd.DataFrame([[i, error, model_names[j]]], columns=['i','MSE', 'Model'])\n",
    "            results1 = results1.append(aux, ignore_index = True)"
   ]
  },
  {
   "cell_type": "code",
   "execution_count": 31,
   "metadata": {},
   "outputs": [],
   "source": [
    "pred = np.load('weightsExp2/resultsMultiAtlas2.npy')\n",
    "pred.shape\n",
    "\n",
    "model_names.append('MultiAtlas')\n",
    "\n",
    "for i in range(0, 51):\n",
    "    sample = test_dataset[i]\n",
    "\n",
    "    target = sample['landmarks']\n",
    "    target =  target.reshape(-1).numpy()\n",
    "    output = pred[i, :]\n",
    "    \n",
    "    error = mean_squared_error(target * 512, output)\n",
    "    aux = pd.DataFrame([[i, error, 'MultiAtlas']], columns=['i','MSE', 'Model'])\n",
    "    results1 = results1.append(aux, ignore_index = True)"
   ]
  },
  {
   "cell_type": "code",
   "execution_count": 34,
   "metadata": {},
   "outputs": [
    {
     "data": {
      "image/png": "[encoded data removed]",
      "text/plain": [
       "<Figure size 600x300 with 1 Axes>"
      ]
     },
     "metadata": {
      "needs_background": "light"
     },
     "output_type": "display_data"
    }
   ],
   "source": [
    "import seaborn as sns\n",
    "import matplotlib.ticker as mticker\n",
    "\n",
    "plt.figure(figsize = (6, 3), dpi=100)\n",
    "\n",
    "ax = plt.subplot(111)\n",
    "\n",
    "sns.boxplot(x = 'Model', y = 'MSE', data = results1, showmeans = True)\n",
    "\n",
    "plt.show()"
   ]
  },
  {
   "cell_type": "code",
   "execution_count": 37,
   "metadata": {},
   "outputs": [],
   "source": [
    "from medpy.metric import dc, hd, assd, jc\n",
    "from utils.fun import reverseVector, drawBinary\n",
    "\n",
    "def evalImageMetrics(blank, output, target):\n",
    "    p1, p2, h, c1, c2 = reverseVector(target)\n",
    "       \n",
    "    pgt = drawBinary(blank.copy(), p1)\n",
    "    pgt = drawBinary(pgt, p2)\n",
    "    \n",
    "    p1, p2, h, c1, c2 = reverseVector(output)\n",
    "    \n",
    "    ptest = drawBinary(blank.copy(), p1)\n",
    "    ptest = drawBinary(ptest, p2)\n",
    "\n",
    "    hdp = hd(ptest, pgt, voxelspacing = 0.7)\n",
    "\n",
    "    p1, p2, h, c1, c2 = reverseVector(target)\n",
    "\n",
    "    pgt = drawBinary(blank.copy(), h)\n",
    "\n",
    "    p1, p2, h, c1, c2 = reverseVector(output)\n",
    "    \n",
    "    ptest = drawBinary(blank.copy(), h)\n",
    "    \n",
    "    hdc = hd(ptest, pgt, voxelspacing = 0.7)\n",
    "    \n",
    "    p1, p2, h, c1, c2 = reverseVector(target)\n",
    "       \n",
    "    pgt = drawBinary(blank.copy(), c1)\n",
    "    pgt = drawBinary(pgt, c2)\n",
    "    \n",
    "    p1, p2, h, c1, c2 = reverseVector(output)\n",
    "    \n",
    "    ptest = drawBinary(blank.copy(), c1)\n",
    "    ptest = drawBinary(ptest, c2)\n",
    "\n",
    "    hdcla = hd(ptest, pgt, voxelspacing = 0.7)\n",
    "    \n",
    "    return [hdp, hdc, hdcla]"
   ]
  },
  {
   "cell_type": "code",
   "execution_count": 38,
   "metadata": {},
   "outputs": [],
   "source": [
    "blank = np.zeros([512, 512])\n",
    "model_names = ['HybridGNet', 'VAE', 'PCA']\n",
    "results = pd.DataFrame()\n",
    "\n",
    "for i in range(0, len(test_dataset.images)):\n",
    "    with torch.no_grad():\n",
    "        sample = test_dataset[i]\n",
    "\n",
    "        data, target = sample['seg'], sample['landmarks']\n",
    "        data = torch.unsqueeze(data, 0).float().to(device)\n",
    "        target =  target.reshape(-1).numpy()\n",
    "        \n",
    "        for j in range(0, len(model_list)):\n",
    "            output = model_list[j](data)\n",
    "            if len(output) > 1:\n",
    "                output = output[0]\n",
    "                \n",
    "            output = output.cpu().numpy().reshape(-1) \n",
    "            \n",
    "            metrics = evalImageMetrics(blank, output * 512, target * 512)\n",
    "            \n",
    "            aux = pd.DataFrame([[i, model_names[j]] + metrics], columns=['i','Model','HD Pulmon','HD Corazon', 'HD Clavicula'])\n",
    "            results = results.append(aux, ignore_index = True)"
   ]
  },
  {
   "cell_type": "code",
   "execution_count": 39,
   "metadata": {},
   "outputs": [],
   "source": [
    "pred = np.load('weightsExp2/resultsMultiAtlas2.npy')\n",
    "\n",
    "for i in range(0, 51):\n",
    "    sample = test_dataset[i]\n",
    "\n",
    "    target = sample['landmarks']\n",
    "    target =  target.reshape(-1).numpy()\n",
    "    output = pred[i, :]\n",
    "    \n",
    "    metrics = evalImageMetrics(blank, output, target * 512)\n",
    "             \n",
    "    aux = pd.DataFrame([[i,'MultiAtlas'] + metrics], columns=['i','Model','HD Pulmon','HD Corazon','HD Clavicula'])\n",
    "    results = results.append(aux, ignore_index = True)"
   ]
  },
  {
   "cell_type": "code",
   "execution_count": 40,
   "metadata": {},
   "outputs": [],
   "source": [
    "results['HD Promedio'] = results[['HD Pulmon', 'HD Corazon', 'HD Clavicula']].mean(axis=1)"
   ]
  },
  {
   "cell_type": "code",
   "execution_count": 43,
   "metadata": {},
   "outputs": [
    {
     "data": {
      "image/png": "[encoded data removed]",
      "text/plain": [
       "<Figure size 432x288 with 2 Axes>"
      ]
     },
     "metadata": {
      "needs_background": "light"
     },
     "output_type": "display_data"
    }
   ],
   "source": [
    "import matplotlib.ticker as mticker\n",
    "\n",
    "plt.figure(figsize = (6,4))\n",
    "\n",
    "ax = plt.subplot(1,2,1)\n",
    "sns.boxplot(x = 'Model', y = 'MSE', data = results1, showmeans = True)\n",
    "plt.xticks(rotation=25, ha=\"right\" )\n",
    "plt.ylabel('MSE')\n",
    "plt.title('MSE')\n",
    "plt.xlabel(None)\n",
    "\n",
    "#ax.set_yscale('log')\n",
    "#ax.yaxis.set_major_formatter(mticker.StrMethodFormatter('{x:.0f}'))\n",
    "#ax.yaxis.set_ticks([25, 50, 100, 200, 400])\n",
    "\n",
    "ax = plt.subplot(1,2,2)\n",
    "sns.boxplot(x = 'Model', y = 'HD Promedio', data = results, showmeans = True)\n",
    "plt.xticks(rotation=25, ha=\"right\" )\n",
    "plt.ylabel('HD (mm)')\n",
    "plt.title('Hausdorff Distance')\n",
    "plt.xlabel(None)\n",
    "\n",
    "#ax.set_yscale('log')\n",
    "#ax.yaxis.set_major_formatter(mticker.StrMethodFormatter('{x:.0f}'))\n",
    "#ax.yaxis.set_ticks([10, 20, 30, 40, 50])\n",
    "\n",
    "plt.tight_layout()"
   ]
  },
  {
   "cell_type": "code",
   "execution_count": null,
   "metadata": {},
   "outputs": [],
   "source": []
  }
 ],
 "metadata": {
  "kernelspec": {
   "display_name": "torch",
   "language": "python",
   "name": "torch"
  },
  "language_info": {
   "codemirror_mode": {
    "name": "ipython",
    "version": 3
   },
   "file_extension": ".py",
   "mimetype": "text/x-python",
   "name": "python",
   "nbconvert_exporter": "python",
   "pygments_lexer": "ipython3",
   "version": "3.8.8"
  }
 },
 "nbformat": 4,
 "nbformat_minor": 4
}
